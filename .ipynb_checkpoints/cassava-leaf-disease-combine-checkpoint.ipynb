{
 "cells": [
  {
   "cell_type": "code",
   "execution_count": 1,
   "metadata": {
    "execution": {
     "iopub.execute_input": "2020-12-14T16:00:57.324144Z",
     "iopub.status.busy": "2020-12-14T16:00:57.323537Z",
     "iopub.status.idle": "2020-12-14T16:00:57.469366Z",
     "shell.execute_reply": "2020-12-14T16:00:57.468098Z"
    },
    "papermill": {
     "duration": 0.161641,
     "end_time": "2020-12-14T16:00:57.469479",
     "exception": false,
     "start_time": "2020-12-14T16:00:57.307838",
     "status": "completed"
    },
    "tags": []
   },
   "outputs": [],
   "source": [
    "import numpy as np\n",
    "import pandas as pd\n",
    "import json\n",
    "import os\n",
    "import cv2\n",
    "import matplotlib.pyplot as plt"
   ]
  },
  {
   "cell_type": "code",
   "execution_count": 2,
   "metadata": {
    "execution": {
     "iopub.execute_input": "2020-12-14T16:00:57.495985Z",
     "iopub.status.busy": "2020-12-14T16:00:57.495382Z",
     "iopub.status.idle": "2020-12-14T16:01:02.268378Z",
     "shell.execute_reply": "2020-12-14T16:01:02.267574Z"
    },
    "papermill": {
     "duration": 4.787907,
     "end_time": "2020-12-14T16:01:02.268491",
     "exception": false,
     "start_time": "2020-12-14T16:00:57.480584",
     "status": "completed"
    },
    "tags": []
   },
   "outputs": [],
   "source": [
    "from tensorflow.keras.applications.resnet50 import ResNet50\n",
    "from tensorflow.keras import Input, Model\n",
    "from keras.layers import Dense, Dropout, Flatten, add\n",
    "import keras"
   ]
  },
  {
   "cell_type": "code",
   "execution_count": 3,
   "metadata": {
    "execution": {
     "iopub.execute_input": "2020-12-14T16:01:02.295667Z",
     "iopub.status.busy": "2020-12-14T16:01:02.294966Z",
     "iopub.status.idle": "2020-12-14T16:01:02.297810Z",
     "shell.execute_reply": "2020-12-14T16:01:02.297396Z"
    },
    "papermill": {
     "duration": 0.018063,
     "end_time": "2020-12-14T16:01:02.297895",
     "exception": false,
     "start_time": "2020-12-14T16:01:02.279832",
     "status": "completed"
    },
    "tags": []
   },
   "outputs": [],
   "source": [
    "from keras.utils import to_categorical, Sequence\n",
    "from keras.models import Sequential\n",
    "from keras.layers import Dense, Dropout, Flatten, Conv2D, MaxPool2D, BatchNormalization\n",
    "from keras.optimizers import RMSprop,Adam"
   ]
  },
  {
   "cell_type": "code",
   "execution_count": 4,
   "metadata": {
    "execution": {
     "iopub.execute_input": "2020-12-14T16:01:02.322637Z",
     "iopub.status.busy": "2020-12-14T16:01:02.322110Z",
     "iopub.status.idle": "2020-12-14T16:01:02.329489Z",
     "shell.execute_reply": "2020-12-14T16:01:02.329885Z"
    },
    "papermill": {
     "duration": 0.021426,
     "end_time": "2020-12-14T16:01:02.329989",
     "exception": false,
     "start_time": "2020-12-14T16:01:02.308563",
     "status": "completed"
    },
    "tags": []
   },
   "outputs": [
    {
     "data": {
      "text/plain": [
       "['train_tfrecords',\n",
       " 'sample_submission.csv',\n",
       " 'test_tfrecords',\n",
       " 'label_num_to_disease_map.json',\n",
       " 'train_images',\n",
       " 'train.csv',\n",
       " 'test_images']"
      ]
     },
     "execution_count": 4,
     "metadata": {},
     "output_type": "execute_result"
    }
   ],
   "source": [
    "BASE_DIR = \"../input/cassava-leaf-disease-classification/\"\n",
    "\n",
    "os.listdir(BASE_DIR)"
   ]
  },
  {
   "cell_type": "code",
   "execution_count": 5,
   "metadata": {
    "execution": {
     "iopub.execute_input": "2020-12-14T16:01:02.358637Z",
     "iopub.status.busy": "2020-12-14T16:01:02.358108Z",
     "iopub.status.idle": "2020-12-14T16:01:02.400653Z",
     "shell.execute_reply": "2020-12-14T16:01:02.400030Z"
    },
    "papermill": {
     "duration": 0.059246,
     "end_time": "2020-12-14T16:01:02.400780",
     "exception": false,
     "start_time": "2020-12-14T16:01:02.341534",
     "status": "completed"
    },
    "tags": []
   },
   "outputs": [
    {
     "name": "stdout",
     "output_type": "stream",
     "text": [
      "             image_id  label\n",
      "0      1000015157.jpg      0\n",
      "1      1000201771.jpg      3\n",
      "2       100042118.jpg      1\n",
      "3      1000723321.jpg      1\n",
      "4      1000812911.jpg      3\n",
      "...               ...    ...\n",
      "21392   999068805.jpg      3\n",
      "21393   999329392.jpg      3\n",
      "21394   999474432.jpg      1\n",
      "21395   999616605.jpg      4\n",
      "21396   999998473.jpg      4\n",
      "\n",
      "[21397 rows x 2 columns]\n"
     ]
    }
   ],
   "source": [
    "train_data = pd.read_csv(BASE_DIR+'train.csv')\n",
    "samp_subm = pd.read_csv(BASE_DIR+'sample_submission.csv')\n",
    "\n",
    "print(train_data)"
   ]
  },
  {
   "cell_type": "code",
   "execution_count": 6,
   "metadata": {
    "execution": {
     "iopub.execute_input": "2020-12-14T16:01:02.429817Z",
     "iopub.status.busy": "2020-12-14T16:01:02.429256Z",
     "iopub.status.idle": "2020-12-14T16:01:02.733423Z",
     "shell.execute_reply": "2020-12-14T16:01:02.733986Z"
    },
    "papermill": {
     "duration": 0.32067,
     "end_time": "2020-12-14T16:01:02.734158",
     "exception": false,
     "start_time": "2020-12-14T16:01:02.413488",
     "status": "completed"
    },
    "tags": []
   },
   "outputs": [
    {
     "name": "stdout",
     "output_type": "stream",
     "text": [
      "number of train data: 21397\n",
      "number of train images: 21397\n",
      "number of test images: 1\n"
     ]
    }
   ],
   "source": [
    "print('number of train data:', len(train_data))\n",
    "print('number of train images:', len(os.listdir(BASE_DIR+'train_images/')))\n",
    "print('number of test images:', len(os.listdir(BASE_DIR+'test_images/')))"
   ]
  },
  {
   "cell_type": "code",
   "execution_count": 7,
   "metadata": {
    "execution": {
     "iopub.execute_input": "2020-12-14T16:01:02.769713Z",
     "iopub.status.busy": "2020-12-14T16:01:02.768883Z",
     "iopub.status.idle": "2020-12-14T16:01:23.495700Z",
     "shell.execute_reply": "2020-12-14T16:01:23.496800Z"
    },
    "papermill": {
     "duration": 20.749094,
     "end_time": "2020-12-14T16:01:23.496985",
     "exception": false,
     "start_time": "2020-12-14T16:01:02.747891",
     "status": "completed"
    },
    "tags": []
   },
   "outputs": [
    {
     "name": "stdout",
     "output_type": "stream",
     "text": [
      "Found 19258 validated image filenames belonging to 5 classes.\n",
      "Found 2139 validated image filenames belonging to 5 classes.\n"
     ]
    }
   ],
   "source": [
    "from tensorflow.keras.preprocessing.image import ImageDataGenerator\n",
    "import tensorflow as tf\n",
    "train_df = pd.read_csv(os.path.join(BASE_DIR, 'train.csv'))\n",
    "train_df['label'] = train_df['label'].astype(str)\n",
    "\n",
    "batch_size=16\n",
    "input_size = (300, 300)\n",
    "\n",
    "train_datagen = tf.keras.preprocessing.image.ImageDataGenerator(\n",
    "    validation_split = 0.1,\n",
    "    rotation_range=360,\n",
    "    width_shift_range=0.1,\n",
    "    height_shift_range=0.1,\n",
    "    shear_range=0.1,\n",
    "    zoom_range=0.1,\n",
    "    #channel_shift_range=0.2,\n",
    "    horizontal_flip=True,\n",
    "    vertical_flip=True,\n",
    "    rescale=None,\n",
    "    preprocessing_function=None,\n",
    "    )\n",
    "\n",
    "train_generator = train_datagen.flow_from_dataframe(\n",
    "    dataframe=train_df,\n",
    "    directory=os.path.join(BASE_DIR, 'train_images'),\n",
    "    x_col=\"image_id\",\n",
    "    y_col=\"label\",\n",
    "    batch_size=batch_size,\n",
    "    target_size=input_size,\n",
    "    class_mode=\"sparse\", \n",
    "    subset = \"training\"\n",
    ")\n",
    "valid_datagen = tf.keras.preprocessing.image.ImageDataGenerator(validation_split=0.1)\n",
    "valid_generator = train_datagen.flow_from_dataframe(\n",
    "    dataframe=train_df,\n",
    "    directory=os.path.join(BASE_DIR, 'train_images'),\n",
    "    x_col=\"image_id\",\n",
    "    y_col=\"label\",\n",
    "    batch_size=batch_size,\n",
    "    target_size=input_size ,\n",
    "    class_mode=\"sparse\", \n",
    "    subset=\"validation\")"
   ]
  },
  {
   "cell_type": "code",
   "execution_count": 8,
   "metadata": {
    "execution": {
     "iopub.execute_input": "2020-12-14T16:01:23.556928Z",
     "iopub.status.busy": "2020-12-14T16:01:23.556090Z",
     "iopub.status.idle": "2020-12-14T16:01:23.561433Z",
     "shell.execute_reply": "2020-12-14T16:01:23.562265Z"
    },
    "papermill": {
     "duration": 0.044002,
     "end_time": "2020-12-14T16:01:23.562481",
     "exception": false,
     "start_time": "2020-12-14T16:01:23.518479",
     "status": "completed"
    },
    "tags": []
   },
   "outputs": [
    {
     "name": "stdout",
     "output_type": "stream",
     "text": [
      "1203.0\n",
      "133.0\n"
     ]
    }
   ],
   "source": [
    "BATCH_SIZE=16\n",
    "STEPS_PER_EPOCH = len(train_df)*0.9 // BATCH_SIZE\n",
    "VALIDATION_STEPS = len(train_df)*0.1 // BATCH_SIZE\n",
    "print(STEPS_PER_EPOCH)\n",
    "print(VALIDATION_STEPS)"
   ]
  },
  {
   "cell_type": "code",
   "execution_count": 9,
   "metadata": {
    "execution": {
     "iopub.execute_input": "2020-12-14T16:01:23.613664Z",
     "iopub.status.busy": "2020-12-14T16:01:23.612785Z",
     "iopub.status.idle": "2020-12-14T16:01:23.616621Z",
     "shell.execute_reply": "2020-12-14T16:01:23.617246Z"
    },
    "papermill": {
     "duration": 0.032367,
     "end_time": "2020-12-14T16:01:23.617429",
     "exception": false,
     "start_time": "2020-12-14T16:01:23.585062",
     "status": "completed"
    },
    "tags": []
   },
   "outputs": [],
   "source": [
    "from keras.applications.xception import Xception\n",
    "from tensorflow.keras.applications.vgg16 import VGG16\n",
    "from tensorflow.keras.applications.resnet50 import ResNet50\n",
    "from tensorflow.keras.applications import InceptionV3\n",
    "from tensorflow.keras.applications import EfficientNetB3 \n",
    "import tensorflow as tf"
   ]
  },
  {
   "cell_type": "code",
   "execution_count": 10,
   "metadata": {
    "execution": {
     "iopub.execute_input": "2020-12-14T16:01:23.671657Z",
     "iopub.status.busy": "2020-12-14T16:01:23.670779Z",
     "iopub.status.idle": "2020-12-14T16:01:39.574184Z",
     "shell.execute_reply": "2020-12-14T16:01:39.573089Z"
    },
    "papermill": {
     "duration": 15.934906,
     "end_time": "2020-12-14T16:01:39.574300",
     "exception": false,
     "start_time": "2020-12-14T16:01:23.639394",
     "status": "completed"
    },
    "tags": []
   },
   "outputs": [],
   "source": [
    "xception_weights_dir = '../input/xception/xception_weights_tf_dim_ordering_tf_kernels_notop.h5'\n",
    "base_xcep = Xception(weights = xception_weights_dir, include_top = False, input_shape = (300,300,3))\n",
    "base_xcep.trainable  = False\n",
    "\n",
    "vgg16_weights_dir = \"../input/vgg16/vgg16_weights_tf_dim_ordering_tf_kernels_notop.h5\"\n",
    "base_vgg16 = VGG16(weights = vgg16_weights_dir, include_top = False, input_shape = (300,300,3))\n",
    "base_vgg16.trainable = False\n",
    "\n",
    "resnet50_weights_dir =  \"../input/resnet50/resnet50_weights_tf_dim_ordering_tf_kernels_notop.h5\"\n",
    "base_resnet50 = ResNet50(weights = resnet50_weights_dir, include_top = False, input_shape = (300,300,3))\n",
    "base_resnet50.trainable = False\n",
    "\n",
    "efficientNetB3_dir = \"../input/tfkerasefficientnetimagenetnotop/efficientnetb3_notop.h5\"\n",
    "base_efficientNetB3 = EfficientNetB3(weights = efficientNetB3_dir, include_top = False, input_shape = (300, 300, 3))\n"
   ]
  },
  {
   "cell_type": "code",
   "execution_count": 11,
   "metadata": {
    "execution": {
     "iopub.execute_input": "2020-12-14T16:01:39.618479Z",
     "iopub.status.busy": "2020-12-14T16:01:39.611000Z",
     "iopub.status.idle": "2020-12-14T16:01:44.607457Z",
     "shell.execute_reply": "2020-12-14T16:01:44.608095Z"
    },
    "papermill": {
     "duration": 5.018605,
     "end_time": "2020-12-14T16:01:44.608267",
     "exception": false,
     "start_time": "2020-12-14T16:01:39.589662",
     "status": "completed"
    },
    "tags": []
   },
   "outputs": [
    {
     "name": "stdout",
     "output_type": "stream",
     "text": [
      "Model: \"functional_9\"\n",
      "__________________________________________________________________________________________________\n",
      "Layer (type)                    Output Shape         Param #     Connected to                     \n",
      "==================================================================================================\n",
      "input_9 (InputLayer)            [(None, 300, 300, 3) 0                                            \n",
      "__________________________________________________________________________________________________\n",
      "functional_1 (Functional)       (None, 1024)         230577704   input_9[0][0]                    \n",
      "__________________________________________________________________________________________________\n",
      "functional_3 (Functional)       (None, 1024)         57183040    input_9[0][0]                    \n",
      "__________________________________________________________________________________________________\n",
      "functional_5 (Functional)       (None, 1024)         233303936   input_9[0][0]                    \n",
      "__________________________________________________________________________________________________\n",
      "functional_7 (Functional)       (None, 1024)         168070959   input_9[0][0]                    \n",
      "__________________________________________________________________________________________________\n",
      "add_12 (Add)                    (None, 1024)         0           functional_1[0][0]               \n",
      "                                                                 functional_3[0][0]               \n",
      "                                                                 functional_5[0][0]               \n",
      "                                                                 functional_7[0][0]               \n",
      "__________________________________________________________________________________________________\n",
      "dense_4 (Dense)                 (None, 512)          524800      add_12[0][0]                     \n",
      "__________________________________________________________________________________________________\n",
      "dropout_4 (Dropout)             (None, 512)          0           dense_4[0][0]                    \n",
      "__________________________________________________________________________________________________\n",
      "dense_5 (Dense)                 (None, 5)            2565        dropout_4[0][0]                  \n",
      "==================================================================================================\n",
      "Total params: 689,663,004\n",
      "Trainable params: 630,411,821\n",
      "Non-trainable params: 59,251,183\n",
      "__________________________________________________________________________________________________\n"
     ]
    }
   ],
   "source": [
    "def create_base_model(base_model):\n",
    "    \n",
    "    inputs = Input(shape = (300,300,3))\n",
    "    \n",
    "    base_out = base_model(inputs)\n",
    "    \n",
    "    base_out = Flatten()(base_out)\n",
    "    \n",
    "    base_out = Dropout(0.3)(base_out)\n",
    "    \n",
    "    base_out = Dense(1024, activation = 'relu')(base_out)\n",
    "    \n",
    "    model = Model(inputs = inputs, outputs = base_out)\n",
    "    \n",
    "    return model\n",
    "\n",
    "xcep_base = create_base_model(base_xcep)\n",
    "vgg16_base = create_base_model(base_vgg16)\n",
    "resnet50_base = create_base_model(base_resnet50)\n",
    "efficientNetB3_base = create_base_model(base_efficientNetB3)\n",
    "\n",
    "\n",
    "def create_model(base1, base2, base3, base4):\n",
    "    \n",
    "    inputs = Input(shape = (300,300,3))\n",
    "    \n",
    "    base1_out = base1(inputs)\n",
    "    base2_out = base2(inputs)\n",
    "    base3_out = base3(inputs)\n",
    "    base4_out = base4(inputs)\n",
    "    base_out = add([base1_out, base2_out, base3_out, base4_out])\n",
    "    \n",
    "    outputs = Dense(512, activation = 'relu')(base_out)\n",
    "    \n",
    "    outputs = Dropout(0.2)(outputs)\n",
    "    \n",
    "    outputs = Dense(5, activation = 'softmax')(outputs)\n",
    "    \n",
    "    model = Model(inputs = inputs, outputs = outputs)\n",
    "    \n",
    "    model.summary()\n",
    "\n",
    "    model.compile(optimizer=tf.keras.optimizers.Adam(learning_rate=1e-4),\n",
    "              loss='sparse_categorical_crossentropy',\n",
    "              metrics=['accuracy'])\n",
    "    \n",
    "    return model\n",
    "    \n",
    "    \n",
    "model = create_model(xcep_base, vgg16_base, resnet50_base, efficientNetB3_base)"
   ]
  },
  {
   "cell_type": "code",
   "execution_count": 12,
   "metadata": {
    "execution": {
     "iopub.execute_input": "2020-12-14T16:01:44.668864Z",
     "iopub.status.busy": "2020-12-14T16:01:44.668015Z",
     "iopub.status.idle": "2020-12-14T16:01:44.673561Z",
     "shell.execute_reply": "2020-12-14T16:01:44.674461Z"
    },
    "papermill": {
     "duration": 0.038159,
     "end_time": "2020-12-14T16:01:44.674676",
     "exception": false,
     "start_time": "2020-12-14T16:01:44.636517",
     "status": "completed"
    },
    "tags": []
   },
   "outputs": [],
   "source": [
    "from tensorflow.keras.callbacks import ModelCheckpoint, ReduceLROnPlateau, EarlyStopping\n",
    "callbacks = [ReduceLROnPlateau(monitor='val_loss', patience=1, verbose=1, factor=0.5),\n",
    "             EarlyStopping(monitor='val_loss', patience=4),\n",
    "             ModelCheckpoint(filepath='best_model.h5', monitor='val_loss', save_best_only=True)]"
   ]
  },
  {
   "cell_type": "code",
   "execution_count": 13,
   "metadata": {
    "execution": {
     "iopub.execute_input": "2020-12-14T16:01:44.734038Z",
     "iopub.status.busy": "2020-12-14T16:01:44.733262Z",
     "iopub.status.idle": "2020-12-14T20:37:28.745559Z",
     "shell.execute_reply": "2020-12-14T20:37:28.746380Z"
    },
    "papermill": {
     "duration": 16544.043924,
     "end_time": "2020-12-14T20:37:28.746575",
     "exception": false,
     "start_time": "2020-12-14T16:01:44.702651",
     "status": "completed"
    },
    "tags": []
   },
   "outputs": [
    {
     "name": "stdout",
     "output_type": "stream",
     "text": [
      "Epoch 1/20\n",
      "1203/1203 [==============================] - 1110s 922ms/step - loss: 4.0523 - accuracy: 0.6612 - val_loss: 0.7125 - val_accuracy: 0.7773\n",
      "Epoch 2/20\n",
      "1203/1203 [==============================] - 1090s 906ms/step - loss: 0.7241 - accuracy: 0.7682 - val_loss: 0.6104 - val_accuracy: 0.8064\n",
      "Epoch 3/20\n",
      "1203/1203 [==============================] - 1109s 922ms/step - loss: 0.6069 - accuracy: 0.7952 - val_loss: 0.5401 - val_accuracy: 0.8163\n",
      "Epoch 4/20\n",
      "1203/1203 [==============================] - ETA: 0s - loss: 0.5614 - accuracy: 0.8128\n",
      "Epoch 00004: ReduceLROnPlateau reducing learning rate to 4.999999873689376e-05.\n",
      "1203/1203 [==============================] - 1019s 847ms/step - loss: 0.5614 - accuracy: 0.8128 - val_loss: 0.5454 - val_accuracy: 0.8191\n",
      "Epoch 5/20\n",
      "1203/1203 [==============================] - 1063s 884ms/step - loss: 0.4743 - accuracy: 0.8387 - val_loss: 0.4525 - val_accuracy: 0.8506\n",
      "Epoch 6/20\n",
      "1203/1203 [==============================] - ETA: 0s - loss: 0.4465 - accuracy: 0.8477\n",
      "Epoch 00006: ReduceLROnPlateau reducing learning rate to 2.499999936844688e-05.\n",
      "1203/1203 [==============================] - 1020s 848ms/step - loss: 0.4465 - accuracy: 0.8477 - val_loss: 0.4547 - val_accuracy: 0.8510\n",
      "Epoch 7/20\n",
      "1203/1203 [==============================] - 1072s 891ms/step - loss: 0.4108 - accuracy: 0.8605 - val_loss: 0.4501 - val_accuracy: 0.8562\n",
      "Epoch 8/20\n",
      "1203/1203 [==============================] - ETA: 0s - loss: 0.3881 - accuracy: 0.8653\n",
      "Epoch 00008: ReduceLROnPlateau reducing learning rate to 1.249999968422344e-05.\n",
      "1203/1203 [==============================] - 1038s 863ms/step - loss: 0.3881 - accuracy: 0.8653 - val_loss: 0.4774 - val_accuracy: 0.8595\n",
      "Epoch 9/20\n",
      "1203/1203 [==============================] - 1059s 880ms/step - loss: 0.3596 - accuracy: 0.8752 - val_loss: 0.4455 - val_accuracy: 0.8623\n",
      "Epoch 10/20\n",
      "1203/1203 [==============================] - ETA: 0s - loss: 0.3539 - accuracy: 0.8740\n",
      "Epoch 00010: ReduceLROnPlateau reducing learning rate to 6.24999984211172e-06.\n",
      "1203/1203 [==============================] - 1016s 845ms/step - loss: 0.3539 - accuracy: 0.8740 - val_loss: 0.4617 - val_accuracy: 0.8670\n",
      "Epoch 11/20\n",
      "1203/1203 [==============================] - ETA: 0s - loss: 0.3395 - accuracy: 0.8820\n",
      "Epoch 00011: ReduceLROnPlateau reducing learning rate to 3.12499992105586e-06.\n",
      "1203/1203 [==============================] - 950s 790ms/step - loss: 0.3395 - accuracy: 0.8820 - val_loss: 0.4532 - val_accuracy: 0.8604\n",
      "Epoch 12/20\n",
      "1203/1203 [==============================] - 1039s 864ms/step - loss: 0.3339 - accuracy: 0.8853 - val_loss: 0.4413 - val_accuracy: 0.8651\n",
      "Epoch 13/20\n",
      "1203/1203 [==============================] - ETA: 0s - loss: 0.3251 - accuracy: 0.8879\n",
      "Epoch 00013: ReduceLROnPlateau reducing learning rate to 1.56249996052793e-06.\n",
      "1203/1203 [==============================] - 1023s 851ms/step - loss: 0.3251 - accuracy: 0.8879 - val_loss: 0.4520 - val_accuracy: 0.8689\n",
      "Epoch 14/20\n",
      "1203/1203 [==============================] - ETA: 0s - loss: 0.3208 - accuracy: 0.8870\n",
      "Epoch 00014: ReduceLROnPlateau reducing learning rate to 7.81249980263965e-07.\n",
      "1203/1203 [==============================] - 958s 796ms/step - loss: 0.3208 - accuracy: 0.8870 - val_loss: 0.4627 - val_accuracy: 0.8633\n",
      "Epoch 15/20\n",
      "1203/1203 [==============================] - ETA: 0s - loss: 0.3171 - accuracy: 0.8915\n",
      "Epoch 00015: ReduceLROnPlateau reducing learning rate to 3.906249901319825e-07.\n",
      "1203/1203 [==============================] - 961s 799ms/step - loss: 0.3171 - accuracy: 0.8915 - val_loss: 0.4753 - val_accuracy: 0.8576\n",
      "Epoch 16/20\n",
      "1203/1203 [==============================] - ETA: 0s - loss: 0.3178 - accuracy: 0.8862\n",
      "Epoch 00016: ReduceLROnPlateau reducing learning rate to 1.9531249506599124e-07.\n",
      "1203/1203 [==============================] - 962s 800ms/step - loss: 0.3178 - accuracy: 0.8862 - val_loss: 0.4735 - val_accuracy: 0.8618\n"
     ]
    }
   ],
   "source": [
    "history = model.fit_generator(\n",
    "    train_generator,\n",
    "    validation_data = valid_generator,\n",
    "    steps_per_epoch = len(train_df)*0.9//batch_size,\n",
    "    validation_steps = len(train_df)*0.1//batch_size, \n",
    "    epochs = 20,\n",
    "    verbose=1,\n",
    "    callbacks = callbacks,\n",
    "    \n",
    ")"
   ]
  },
  {
   "cell_type": "code",
   "execution_count": 14,
   "metadata": {
    "execution": {
     "iopub.execute_input": "2020-12-14T20:37:39.879911Z",
     "iopub.status.busy": "2020-12-14T20:37:39.878997Z",
     "iopub.status.idle": "2020-12-14T20:37:40.241797Z",
     "shell.execute_reply": "2020-12-14T20:37:40.241179Z"
    },
    "papermill": {
     "duration": 5.796987,
     "end_time": "2020-12-14T20:37:40.241911",
     "exception": false,
     "start_time": "2020-12-14T20:37:34.444924",
     "status": "completed"
    },
    "tags": []
   },
   "outputs": [
    {
     "data": {
      "image/png": "[encoded data removed]",
      "text/plain": [
       "<Figure size 432x288 with 1 Axes>"
      ]
     },
     "metadata": {
      "needs_background": "light"
     },
     "output_type": "display_data"
    },
    {
     "data": {
      "image/png": "[encoded data removed]",
      "text/plain": [
       "<Figure size 432x288 with 1 Axes>"
      ]
     },
     "metadata": {
      "needs_background": "light"
     },
     "output_type": "display_data"
    }
   ],
   "source": [
    "import matplotlib.pyplot as plt\n",
    "\n",
    "acc = history.history['accuracy']\n",
    "val_acc = history.history['val_accuracy']\n",
    "loss = history.history['loss']\n",
    "val_loss = history.history['val_loss']\n",
    "\n",
    "epochs = range(len(acc))\n",
    "\n",
    "plt.plot(epochs, acc, 'bo', label='Training acc')\n",
    "plt.plot(epochs, val_acc, 'b', label='Validation acc')\n",
    "plt.title('Training and validation accuracy')\n",
    "plt.legend()\n",
    "\n",
    "plt.figure()\n",
    "\n",
    "plt.plot(epochs, loss, 'bo', label='Training loss')\n",
    "plt.plot(epochs, val_loss, 'b', label='Validation loss')\n",
    "plt.title('Training and validation loss')\n",
    "plt.legend()\n",
    "\n",
    "plt.show()"
   ]
  },
  {
   "cell_type": "code",
   "execution_count": 15,
   "metadata": {
    "execution": {
     "iopub.execute_input": "2020-12-14T20:37:51.684792Z",
     "iopub.status.busy": "2020-12-14T20:37:51.684233Z",
     "iopub.status.idle": "2020-12-14T20:37:51.701426Z",
     "shell.execute_reply": "2020-12-14T20:37:51.700603Z"
    },
    "papermill": {
     "duration": 5.426569,
     "end_time": "2020-12-14T20:37:51.701529",
     "exception": false,
     "start_time": "2020-12-14T20:37:46.274960",
     "status": "completed"
    },
    "tags": []
   },
   "outputs": [
    {
     "data": {
      "text/html": [
       "<div>\n",
       "<style scoped>\n",
       "    .dataframe tbody tr th:only-of-type {\n",
       "        vertical-align: middle;\n",
       "    }\n",
       "\n",
       "    .dataframe tbody tr th {\n",
       "        vertical-align: top;\n",
       "    }\n",
       "\n",
       "    .dataframe thead th {\n",
       "        text-align: right;\n",
       "    }\n",
       "</style>\n",
       "<table border=\"1\" class=\"dataframe\">\n",
       "  <thead>\n",
       "    <tr style=\"text-align: right;\">\n",
       "      <th></th>\n",
       "      <th>image_id</th>\n",
       "      <th>label</th>\n",
       "    </tr>\n",
       "  </thead>\n",
       "  <tbody>\n",
       "    <tr>\n",
       "      <th>0</th>\n",
       "      <td>2216849948.jpg</td>\n",
       "      <td>4</td>\n",
       "    </tr>\n",
       "  </tbody>\n",
       "</table>\n",
       "</div>"
      ],
      "text/plain": [
       "         image_id  label\n",
       "0  2216849948.jpg      4"
      ]
     },
     "execution_count": 15,
     "metadata": {},
     "output_type": "execute_result"
    }
   ],
   "source": [
    "sample = \"../input/cassava-leaf-disease-classification/sample_submission.csv\"\n",
    "sample_df = pd.read_csv(sample)\n",
    "sample_df.head()"
   ]
  },
  {
   "cell_type": "code",
   "execution_count": 16,
   "metadata": {
    "execution": {
     "iopub.execute_input": "2020-12-14T20:38:02.650166Z",
     "iopub.status.busy": "2020-12-14T20:38:02.649295Z",
     "iopub.status.idle": "2020-12-14T20:38:02.652148Z",
     "shell.execute_reply": "2020-12-14T20:38:02.651717Z"
    },
    "papermill": {
     "duration": 5.362797,
     "end_time": "2020-12-14T20:38:02.652243",
     "exception": false,
     "start_time": "2020-12-14T20:37:57.289446",
     "status": "completed"
    },
    "tags": []
   },
   "outputs": [],
   "source": [
    "INPUT_PATH = \"../input/cassava-leaf-disease-classification/\"\n",
    "test_images_path = INPUT_PATH+\"test_images/\""
   ]
  },
  {
   "cell_type": "code",
   "execution_count": 17,
   "metadata": {
    "execution": {
     "iopub.execute_input": "2020-12-14T20:38:13.704580Z",
     "iopub.status.busy": "2020-12-14T20:38:13.703700Z",
     "iopub.status.idle": "2020-12-14T20:38:13.706585Z",
     "shell.execute_reply": "2020-12-14T20:38:13.706120Z"
    },
    "papermill": {
     "duration": 5.374022,
     "end_time": "2020-12-14T20:38:13.706685",
     "exception": false,
     "start_time": "2020-12-14T20:38:08.332663",
     "status": "completed"
    },
    "tags": []
   },
   "outputs": [],
   "source": [
    "import cv2\n",
    "import tensorflow as tf\n",
    "import numpy as np \n",
    "from matplotlib import pyplot as plt\n",
    "from PIL import Image"
   ]
  },
  {
   "cell_type": "code",
   "execution_count": 18,
   "metadata": {
    "execution": {
     "iopub.execute_input": "2020-12-14T20:38:25.979737Z",
     "iopub.status.busy": "2020-12-14T20:38:25.979192Z",
     "iopub.status.idle": "2020-12-14T20:38:30.220677Z",
     "shell.execute_reply": "2020-12-14T20:38:30.219598Z"
    },
    "papermill": {
     "duration": 9.999739,
     "end_time": "2020-12-14T20:38:30.220802",
     "exception": false,
     "start_time": "2020-12-14T20:38:20.221063",
     "status": "completed"
    },
    "tags": []
   },
   "outputs": [],
   "source": [
    "predictions = []\n",
    "for image_id in sample_df.image_id:\n",
    "    img = Image.open(os.path.join(test_images_path+image_id))\n",
    "    img = img.resize((300,300))\n",
    "    img = np.expand_dims(img, axis=0)\n",
    "   \n",
    "    predictions.append(np.argmax(model.predict(img)))\n",
    "\n",
    "sample_df[\"label\"] = predictions"
   ]
  },
  {
   "cell_type": "code",
   "execution_count": 19,
   "metadata": {
    "execution": {
     "iopub.execute_input": "2020-12-14T20:38:41.150677Z",
     "iopub.status.busy": "2020-12-14T20:38:41.149551Z",
     "iopub.status.idle": "2020-12-14T20:38:41.600095Z",
     "shell.execute_reply": "2020-12-14T20:38:41.599648Z"
    },
    "papermill": {
     "duration": 6.010255,
     "end_time": "2020-12-14T20:38:41.600198",
     "exception": false,
     "start_time": "2020-12-14T20:38:35.589943",
     "status": "completed"
    },
    "tags": []
   },
   "outputs": [],
   "source": [
    "sample_df.to_csv(\"submission.csv\", index = False)"
   ]
  },
  {
   "cell_type": "markdown",
   "metadata": {},
   "source": [
    "得分：0.861"
   ]
  }
 ],
 "metadata": {
  "kernelspec": {
   "display_name": "Python 3",
   "language": "python",
   "name": "python3"
  },
  "language_info": {
   "codemirror_mode": {
    "name": "ipython",
    "version": 3
   },
   "file_extension": ".py",
   "mimetype": "text/x-python",
   "name": "python",
   "nbconvert_exporter": "python",
   "pygments_lexer": "ipython3",
   "version": "3.7.4"
  },
  "papermill": {
   "duration": 16675.275678,
   "end_time": "2020-12-14T20:38:48.775602",
   "environment_variables": {},
   "exception": null,
   "input_path": "__notebook__.ipynb",
   "output_path": "__notebook__.ipynb",
   "parameters": {},
   "start_time": "2020-12-14T16:00:53.499924",
   "version": "2.1.0"
  }
 },
 "nbformat": 4,
 "nbformat_minor": 4
}
