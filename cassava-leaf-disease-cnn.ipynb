{
 "cells": [
  {
   "cell_type": "code",
   "execution_count": 1,
   "metadata": {
    "_cell_guid": "79c7e3d0-c299-4dcb-8224-4455121ee9b0",
    "_uuid": "d629ff2d2480ee46fbb7e2d37f6b5fab8052498a",
    "execution": {
     "iopub.execute_input": "2020-12-01T00:51:33.427781Z",
     "iopub.status.busy": "2020-12-01T00:51:33.426976Z",
     "iopub.status.idle": "2020-12-01T00:51:33.581866Z",
     "shell.execute_reply": "2020-12-01T00:51:33.581176Z"
    },
    "papermill": {
     "duration": 0.170631,
     "end_time": "2020-12-01T00:51:33.581990",
     "exception": false,
     "start_time": "2020-12-01T00:51:33.411359",
     "status": "completed"
    },
    "tags": []
   },
   "outputs": [],
   "source": [
    "import numpy as np\n",
    "import pandas as pd\n",
    "import json\n",
    "import os\n",
    "import cv2\n",
    "import matplotlib.pyplot as plt"
   ]
  },
  {
   "cell_type": "code",
   "execution_count": 2,
   "metadata": {
    "execution": {
     "iopub.execute_input": "2020-12-01T00:51:33.605552Z",
     "iopub.status.busy": "2020-12-01T00:51:33.604660Z",
     "iopub.status.idle": "2020-12-01T00:51:38.503372Z",
     "shell.execute_reply": "2020-12-01T00:51:38.502427Z"
    },
    "papermill": {
     "duration": 4.912179,
     "end_time": "2020-12-01T00:51:38.503508",
     "exception": false,
     "start_time": "2020-12-01T00:51:33.591329",
     "status": "completed"
    },
    "tags": []
   },
   "outputs": [],
   "source": [
    "from keras.utils import to_categorical, Sequence\n",
    "from keras.models import Sequential\n",
    "from keras.layers import Dense, Dropout, Flatten, Conv2D, MaxPool2D, BatchNormalization\n",
    "from keras.optimizers import RMSprop,Adam"
   ]
  },
  {
   "cell_type": "code",
   "execution_count": 3,
   "metadata": {
    "execution": {
     "iopub.execute_input": "2020-12-01T00:51:38.527281Z",
     "iopub.status.busy": "2020-12-01T00:51:38.526554Z",
     "iopub.status.idle": "2020-12-01T00:51:38.534988Z",
     "shell.execute_reply": "2020-12-01T00:51:38.535548Z"
    },
    "papermill": {
     "duration": 0.022204,
     "end_time": "2020-12-01T00:51:38.535676",
     "exception": false,
     "start_time": "2020-12-01T00:51:38.513472",
     "status": "completed"
    },
    "tags": []
   },
   "outputs": [
    {
     "data": {
      "text/plain": [
       "['test_images',\n",
       " 'train.csv',\n",
       " 'test_tfrecords',\n",
       " 'train_tfrecords',\n",
       " 'train_images',\n",
       " 'label_num_to_disease_map.json',\n",
       " 'sample_submission.csv']"
      ]
     },
     "execution_count": 3,
     "metadata": {},
     "output_type": "execute_result"
    }
   ],
   "source": [
    "BASE_DIR = \"../input/cassava-leaf-disease-classification/\"\n",
    "\n",
    "os.listdir(BASE_DIR)"
   ]
  },
  {
   "cell_type": "code",
   "execution_count": 4,
   "metadata": {
    "execution": {
     "iopub.execute_input": "2020-12-01T00:51:38.567995Z",
     "iopub.status.busy": "2020-12-01T00:51:38.567214Z",
     "iopub.status.idle": "2020-12-01T00:51:38.642225Z",
     "shell.execute_reply": "2020-12-01T00:51:38.643484Z"
    },
    "papermill": {
     "duration": 0.097649,
     "end_time": "2020-12-01T00:51:38.643651",
     "exception": false,
     "start_time": "2020-12-01T00:51:38.546002",
     "status": "completed"
    },
    "tags": []
   },
   "outputs": [
    {
     "name": "stdout",
     "output_type": "stream",
     "text": [
      "             image_id  label\n",
      "0      1000015157.jpg      0\n",
      "1      1000201771.jpg      3\n",
      "2       100042118.jpg      1\n",
      "3      1000723321.jpg      1\n",
      "4      1000812911.jpg      3\n",
      "...               ...    ...\n",
      "21392   999068805.jpg      3\n",
      "21393   999329392.jpg      3\n",
      "21394   999474432.jpg      1\n",
      "21395   999616605.jpg      4\n",
      "21396   999998473.jpg      4\n",
      "\n",
      "[21397 rows x 2 columns]\n"
     ]
    }
   ],
   "source": [
    "train_data = pd.read_csv(BASE_DIR+'train.csv')\n",
    "samp_subm = pd.read_csv(BASE_DIR+'sample_submission.csv')\n",
    "\n",
    "print(train_data)"
   ]
  },
  {
   "cell_type": "code",
   "execution_count": 5,
   "metadata": {
    "execution": {
     "iopub.execute_input": "2020-12-01T00:51:38.678076Z",
     "iopub.status.busy": "2020-12-01T00:51:38.677282Z",
     "iopub.status.idle": "2020-12-01T00:51:39.336079Z",
     "shell.execute_reply": "2020-12-01T00:51:39.335535Z"
    },
    "papermill": {
     "duration": 0.678427,
     "end_time": "2020-12-01T00:51:39.336197",
     "exception": false,
     "start_time": "2020-12-01T00:51:38.657770",
     "status": "completed"
    },
    "tags": []
   },
   "outputs": [
    {
     "name": "stdout",
     "output_type": "stream",
     "text": [
      "number of train data: 21397\n",
      "number of train images: 21397\n",
      "number of test images: 1\n"
     ]
    }
   ],
   "source": [
    "print('number of train data:', len(train_data))\n",
    "print('number of train images:', len(os.listdir(BASE_DIR+'train_images/')))\n",
    "print('number of test images:', len(os.listdir(BASE_DIR+'test_images/')))"
   ]
  },
  {
   "cell_type": "code",
   "execution_count": 6,
   "metadata": {
    "execution": {
     "iopub.execute_input": "2020-12-01T00:51:39.372041Z",
     "iopub.status.busy": "2020-12-01T00:51:39.371083Z",
     "iopub.status.idle": "2020-12-01T00:51:47.611064Z",
     "shell.execute_reply": "2020-12-01T00:51:47.611795Z"
    },
    "papermill": {
     "duration": 8.264245,
     "end_time": "2020-12-01T00:51:47.611975",
     "exception": false,
     "start_time": "2020-12-01T00:51:39.347730",
     "status": "completed"
    },
    "tags": []
   },
   "outputs": [
    {
     "name": "stdout",
     "output_type": "stream",
     "text": [
      "Found 17118 validated image filenames belonging to 5 classes.\n",
      "Found 4279 validated image filenames belonging to 5 classes.\n"
     ]
    }
   ],
   "source": [
    "from tensorflow.keras.preprocessing.image import ImageDataGenerator\n",
    "\n",
    "train_df = pd.read_csv(os.path.join(BASE_DIR, 'train.csv'))\n",
    "train_df['label'] = train_df['label'].astype(str)\n",
    "\n",
    "\n",
    "train_datagen = ImageDataGenerator(validation_split = 0.2,  #给出验证数据分配比例（validation_split = 0.2）\n",
    "    rescale=1./255,\n",
    "    rotation_range=40,\n",
    "    width_shift_range=0.2,\n",
    "    height_shift_range=0.2,\n",
    "    shear_range=0.2,\n",
    "    zoom_range=0.2,\n",
    "    horizontal_flip=True,)\n",
    "\n",
    "\n",
    "validation_datagen = ImageDataGenerator(validation_split = 0.2,rescale=1./255) #注意，不能增强验证数据 #给出验证数据分配比例（validation_split = 0.2）\n",
    "\n",
    "train_generator = train_datagen.flow_from_dataframe(\n",
    "    dataframe=train_df,\n",
    "    directory=os.path.join(BASE_DIR, 'train_images'),\n",
    "    subset = \"training\",#需指定为训练数据\n",
    "    x_col='image_id',\n",
    "    y_col='label',\n",
    "    target_size=(240, 240),\n",
    "    class_mode='sparse', #使用'sparse' 因为train_df没有使用one-hot\n",
    "    batch_size=32\n",
    ")\n",
    "        # 因为使用了binary_crossentropy损失，所以需要用二进制标签 默认 class_mode='categorical'\n",
    "validation_generator = validation_datagen.flow_from_dataframe(\n",
    "    dataframe=train_df,\n",
    "    directory=os.path.join(BASE_DIR, 'train_images'),\n",
    "    subset = \"validation\", #需指定为验证数据\n",
    "    x_col='image_id',\n",
    "    y_col='label',\n",
    "    target_size=(240, 240),\n",
    "    class_mode='sparse', #使用'sparse' 因为train_df没有使用one-hot\n",
    "    batch_size=32\n",
    ")"
   ]
  },
  {
   "cell_type": "code",
   "execution_count": 7,
   "metadata": {
    "execution": {
     "iopub.execute_input": "2020-12-01T00:51:47.642503Z",
     "iopub.status.busy": "2020-12-01T00:51:47.641587Z",
     "iopub.status.idle": "2020-12-01T00:51:47.645501Z",
     "shell.execute_reply": "2020-12-01T00:51:47.646310Z"
    },
    "papermill": {
     "duration": 0.02181,
     "end_time": "2020-12-01T00:51:47.646488",
     "exception": false,
     "start_time": "2020-12-01T00:51:47.624678",
     "status": "completed"
    },
    "tags": []
   },
   "outputs": [
    {
     "name": "stdout",
     "output_type": "stream",
     "text": [
      "534.0\n",
      "133.0\n"
     ]
    }
   ],
   "source": [
    "BATCH_SIZE=32\n",
    "STEPS_PER_EPOCH = len(train_df)*0.8 // BATCH_SIZE\n",
    "VALIDATION_STEPS = len(train_df)*0.2 // BATCH_SIZE\n",
    "print(STEPS_PER_EPOCH)\n",
    "print(VALIDATION_STEPS)"
   ]
  },
  {
   "cell_type": "code",
   "execution_count": 8,
   "metadata": {
    "execution": {
     "iopub.execute_input": "2020-12-01T00:51:47.685300Z",
     "iopub.status.busy": "2020-12-01T00:51:47.684590Z",
     "iopub.status.idle": "2020-12-01T00:51:50.670263Z",
     "shell.execute_reply": "2020-12-01T00:51:50.671259Z"
    },
    "papermill": {
     "duration": 3.011935,
     "end_time": "2020-12-01T00:51:50.671478",
     "exception": false,
     "start_time": "2020-12-01T00:51:47.659543",
     "status": "completed"
    },
    "tags": []
   },
   "outputs": [
    {
     "name": "stdout",
     "output_type": "stream",
     "text": [
      "Model: \"sequential\"\n",
      "_________________________________________________________________\n",
      "Layer (type)                 Output Shape              Param #   \n",
      "=================================================================\n",
      "conv2d (Conv2D)              (None, 238, 238, 32)      896       \n",
      "_________________________________________________________________\n",
      "max_pooling2d (MaxPooling2D) (None, 119, 119, 32)      0         \n",
      "_________________________________________________________________\n",
      "conv2d_1 (Conv2D)            (None, 117, 117, 64)      18496     \n",
      "_________________________________________________________________\n",
      "max_pooling2d_1 (MaxPooling2 (None, 58, 58, 64)        0         \n",
      "_________________________________________________________________\n",
      "conv2d_2 (Conv2D)            (None, 56, 56, 128)       73856     \n",
      "_________________________________________________________________\n",
      "max_pooling2d_2 (MaxPooling2 (None, 28, 28, 128)       0         \n",
      "_________________________________________________________________\n",
      "conv2d_3 (Conv2D)            (None, 26, 26, 128)       147584    \n",
      "_________________________________________________________________\n",
      "max_pooling2d_3 (MaxPooling2 (None, 13, 13, 128)       0         \n",
      "_________________________________________________________________\n",
      "flatten (Flatten)            (None, 21632)             0         \n",
      "_________________________________________________________________\n",
      "dropout (Dropout)            (None, 21632)             0         \n",
      "_________________________________________________________________\n",
      "dense (Dense)                (None, 512)               11076096  \n",
      "_________________________________________________________________\n",
      "dense_1 (Dense)              (None, 5)                 2565      \n",
      "=================================================================\n",
      "Total params: 11,319,493\n",
      "Trainable params: 11,319,493\n",
      "Non-trainable params: 0\n",
      "_________________________________________________________________\n"
     ]
    }
   ],
   "source": [
    "from keras import layers\n",
    "from keras import models\n",
    "model = models.Sequential()\n",
    "model.add(layers.Conv2D(32, (3, 3), activation='relu',\n",
    "                        input_shape=(240, 240, 3)))\n",
    "model.add(layers.MaxPooling2D((2, 2)))\n",
    "model.add(layers.Conv2D(64, (3, 3), activation='relu'))\n",
    "model.add(layers.MaxPooling2D((2, 2)))\n",
    "model.add(layers.Conv2D(128, (3, 3), activation='relu'))\n",
    "model.add(layers.MaxPooling2D((2, 2)))\n",
    "model.add(layers.Conv2D(128, (3, 3), activation='relu'))\n",
    "model.add(layers.MaxPooling2D((2, 2)))\n",
    "model.add(layers.Flatten())\n",
    "model.add(layers.Dropout(0.5)) #添加dropout 正则化\n",
    "model.add(layers.Dense(512, activation='relu'))\n",
    "model.add(layers.Dense(5, activation='softmax'))\n",
    "\n",
    "model.summary()\n",
    "model.compile(optimizer='rmsprop',\n",
    "              loss='sparse_categorical_crossentropy',\n",
    "              metrics=['accuracy'])"
   ]
  },
  {
   "cell_type": "code",
   "execution_count": 9,
   "metadata": {
    "execution": {
     "iopub.execute_input": "2020-12-01T00:51:50.715828Z",
     "iopub.status.busy": "2020-12-01T00:51:50.713947Z",
     "iopub.status.idle": "2020-12-01T00:59:26.743366Z",
     "shell.execute_reply": "2020-12-01T00:59:26.744608Z"
    },
    "papermill": {
     "duration": 456.060068,
     "end_time": "2020-12-01T00:59:26.744898",
     "exception": false,
     "start_time": "2020-12-01T00:51:50.684830",
     "status": "completed"
    },
    "tags": []
   },
   "outputs": [
    {
     "name": "stdout",
     "output_type": "stream",
     "text": [
      "534/534 [==============================] - 451s 844ms/step - loss: 1.1804 - accuracy: 0.6147 - val_loss: 1.0845 - val_accuracy: 0.6227\n"
     ]
    }
   ],
   "source": [
    "import keras\n",
    "callbacks_list = [              #通过fit 的callbacks 参数将回调函数传入模型中，这个参数接收一个回调函数的列表。你可以传入任意个数的回调函数\n",
    "    keras.callbacks.EarlyStopping(  #如果不再改善，就中断训练\n",
    "        monitor='val_loss',         #监控模型的val_loss\n",
    "        patience=4,                 #如果val_loss在多于3轮的时间（即4轮）内不再改善，中断训练\n",
    "    ),\n",
    "    keras.callbacks.ModelCheckpoint( #在每轮过后保存当前权重\n",
    "        filepath='my_model.h5',      #目标模型文件的保存路径\n",
    "        monitor='val_loss',\n",
    "        save_best_only=True,        #这两个参数的含义是，如果val_loss 没有改善，那么不需要覆盖模型文件。这就可以始终保存在训练过程中见到的最佳模型\n",
    "    ),\n",
    "   \n",
    "    keras.callbacks.ReduceLROnPlateau(  \n",
    "        monitor='val_loss',   #监控模型的val_loss 即验证损失\n",
    "        factor=0.5,           #触发时将学习率除以学习速率设为原来的0.5\n",
    "        verbose=1,\n",
    "        patience=2,                 #如果val_loss在多于2轮的时间（即3轮）内不再改善，中断训练，那么就触发这个回调函数\n",
    "    )\n",
    "]\n",
    "\n",
    "model.compile(optimizer='rmsprop',\n",
    "              loss='sparse_categorical_crossentropy',\n",
    "              metrics=['accuracy'])\n",
    "\n",
    "history = model.fit_generator(train_generator,\n",
    "                              epochs=1,\n",
    "                              steps_per_epoch=STEPS_PER_EPOCH,\n",
    "                              verbose=1,\n",
    "                              validation_data=validation_generator,\n",
    "                              validation_steps=VALIDATION_STEPS,\n",
    "                              callbacks=callbacks_list) #加入callbacks函数"
   ]
  },
  {
   "cell_type": "code",
   "execution_count": 10,
   "metadata": {
    "execution": {
     "iopub.execute_input": "2020-12-01T00:59:27.166864Z",
     "iopub.status.busy": "2020-12-01T00:59:27.165161Z",
     "iopub.status.idle": "2020-12-01T00:59:27.494992Z",
     "shell.execute_reply": "2020-12-01T00:59:27.495495Z"
    },
    "papermill": {
     "duration": 0.549561,
     "end_time": "2020-12-01T00:59:27.495631",
     "exception": false,
     "start_time": "2020-12-01T00:59:26.946070",
     "status": "completed"
    },
    "tags": []
   },
   "outputs": [
    {
     "data": {
      "image/png": "[encoded data removed]",
      "text/plain": [
       "<Figure size 432x288 with 1 Axes>"
      ]
     },
     "metadata": {
      "needs_background": "light"
     },
     "output_type": "display_data"
    },
    {
     "data": {
      "image/png": "[encoded data removed]",
      "text/plain": [
       "<Figure size 432x288 with 1 Axes>"
      ]
     },
     "metadata": {
      "needs_background": "light"
     },
     "output_type": "display_data"
    }
   ],
   "source": [
    "import matplotlib.pyplot as plt\n",
    "\n",
    "acc = history.history['accuracy']\n",
    "val_acc = history.history['val_accuracy']\n",
    "loss = history.history['loss']\n",
    "val_loss = history.history['val_loss']\n",
    "\n",
    "epochs = range(len(acc))\n",
    "\n",
    "plt.plot(epochs, acc, 'bo', label='Training acc')\n",
    "plt.plot(epochs, val_acc, 'b', label='Validation acc')\n",
    "plt.title('Training and validation accuracy')\n",
    "plt.legend()\n",
    "\n",
    "plt.figure()\n",
    "\n",
    "plt.plot(epochs, loss, 'bo', label='Training loss')\n",
    "plt.plot(epochs, val_loss, 'b', label='Validation loss')\n",
    "plt.title('Training and validation loss')\n",
    "plt.legend()\n",
    "\n",
    "plt.show()"
   ]
  },
  {
   "cell_type": "code",
   "execution_count": 11,
   "metadata": {
    "execution": {
     "iopub.execute_input": "2020-12-01T00:59:27.907836Z",
     "iopub.status.busy": "2020-12-01T00:59:27.906023Z",
     "iopub.status.idle": "2020-12-01T00:59:28.318483Z",
     "shell.execute_reply": "2020-12-01T00:59:28.319386Z"
    },
    "papermill": {
     "duration": 0.621773,
     "end_time": "2020-12-01T00:59:28.319531",
     "exception": false,
     "start_time": "2020-12-01T00:59:27.697758",
     "status": "completed"
    },
    "tags": []
   },
   "outputs": [
    {
     "name": "stdout",
     "output_type": "stream",
     "text": [
      "Found 1 validated image filenames belonging to 1 classes.\n",
      "         image_id  label\n",
      "0  2216849948.jpg      3\n",
      "Done\n"
     ]
    }
   ],
   "source": [
    "filenames = []\n",
    "labels = []\n",
    "#for f in os.listdir(os.path.join(BASE_DIR, 'test1')):\n",
    "for f in os.listdir(os.path.join(BASE_DIR, 'test_images')):\n",
    "    filenames.append(f)\n",
    "    labels.append('0')\n",
    "\n",
    "test_df = pd.DataFrame({\n",
    "    'image_id': filenames,\n",
    "    'label': labels,\n",
    "})\n",
    "\n",
    "test_datagen = ImageDataGenerator(rescale=1./255).flow_from_dataframe(\n",
    "    dataframe=test_df,\n",
    "    directory=os.path.join(BASE_DIR, 'test_images'),\n",
    "    #directory=os.path.join(BASE_DIR, 'test1'),\n",
    "    x_col='image_id',\n",
    "    y_col='label',\n",
    "    target_size=(240, 240)\n",
    "    \n",
    ")\n",
    "\n",
    "y_pred = model.predict(test_datagen)\n",
    "test_df['label'] = np.argmax(y_pred, axis=1)\n",
    "test_df.to_csv('submission.csv', index=False)\n",
    "print(test_df)\n",
    "print('Done')"
   ]
  }
 ],
 "metadata": {
  "kernelspec": {
   "display_name": "Python 3",
   "language": "python",
   "name": "python3"
  },
  "language_info": {
   "codemirror_mode": {
    "name": "ipython",
    "version": 3
   },
   "file_extension": ".py",
   "mimetype": "text/x-python",
   "name": "python",
   "nbconvert_exporter": "python",
   "pygments_lexer": "ipython3",
   "version": "3.7.7"
  },
  "papermill": {
   "duration": 480.984502,
   "end_time": "2020-12-01T00:59:30.066452",
   "environment_variables": {},
   "exception": null,
   "input_path": "__notebook__.ipynb",
   "output_path": "__notebook__.ipynb",
   "parameters": {},
   "start_time": "2020-12-01T00:51:29.081950",
   "version": "2.1.0"
  }
 },
 "nbformat": 4,
 "nbformat_minor": 4
}
