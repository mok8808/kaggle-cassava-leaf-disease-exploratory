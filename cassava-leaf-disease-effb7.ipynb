{
 "cells": [
  {
   "cell_type": "markdown",
   "metadata": {
    "_cell_guid": "79c7e3d0-c299-4dcb-8224-4455121ee9b0",
    "_uuid": "d629ff2d2480ee46fbb7e2d37f6b5fab8052498a",
    "execution": {
     "iopub.execute_input": "2020-12-12T12:28:16.003850Z",
     "iopub.status.busy": "2020-12-12T12:28:16.003220Z",
     "iopub.status.idle": "2020-12-12T12:28:16.151384Z",
     "shell.execute_reply": "2020-12-12T12:28:16.150773Z"
    },
    "papermill": {
     "duration": 0.166311,
     "end_time": "2020-12-12T12:28:16.151535",
     "exception": false,
     "start_time": "2020-12-12T12:28:15.985224",
     "status": "completed"
    },
    "tags": []
   },
   "source": [
    "### 说明（EfficientNetB7）\n",
    "#### kaggle 得分：0.843\n",
    "#### 以前的问题可能出在predictions部分（已改进）本例只训练了5个epochs\n",
    "#### 未使用：rescale=1./255"
   ]
  },
  {
   "cell_type": "code",
   "execution_count": null,
   "metadata": {},
   "outputs": [],
   "source": [
    "import numpy as np\n",
    "import pandas as pd\n",
    "import json\n",
    "import os\n",
    "import cv2\n",
    "import matplotlib.pyplot as plt"
   ]
  },
  {
   "cell_type": "code",
   "execution_count": 2,
   "metadata": {
    "execution": {
     "iopub.execute_input": "2020-12-12T12:28:16.182740Z",
     "iopub.status.busy": "2020-12-12T12:28:16.181954Z",
     "iopub.status.idle": "2020-12-12T12:28:21.124864Z",
     "shell.execute_reply": "2020-12-12T12:28:21.123731Z"
    },
    "papermill": {
     "duration": 4.960683,
     "end_time": "2020-12-12T12:28:21.125037",
     "exception": false,
     "start_time": "2020-12-12T12:28:16.164354",
     "status": "completed"
    },
    "tags": []
   },
   "outputs": [],
   "source": [
    "from tensorflow.keras.applications.resnet50 import ResNet50\n",
    "from tensorflow.keras import Input, Model\n",
    "from keras.layers import Dense, Dropout, Flatten, add\n",
    "import keras"
   ]
  },
  {
   "cell_type": "code",
   "execution_count": 3,
   "metadata": {
    "execution": {
     "iopub.execute_input": "2020-12-12T12:28:21.221802Z",
     "iopub.status.busy": "2020-12-12T12:28:21.220233Z",
     "iopub.status.idle": "2020-12-12T12:28:21.228467Z",
     "shell.execute_reply": "2020-12-12T12:28:21.227750Z"
    },
    "papermill": {
     "duration": 0.064903,
     "end_time": "2020-12-12T12:28:21.228604",
     "exception": false,
     "start_time": "2020-12-12T12:28:21.163701",
     "status": "completed"
    },
    "tags": []
   },
   "outputs": [],
   "source": [
    "from keras.utils import to_categorical, Sequence\n",
    "from keras.models import Sequential\n",
    "from keras.layers import Dense, Dropout, Flatten, Conv2D, MaxPool2D, BatchNormalization\n",
    "from keras.optimizers import RMSprop,Adam"
   ]
  },
  {
   "cell_type": "code",
   "execution_count": 4,
   "metadata": {
    "execution": {
     "iopub.execute_input": "2020-12-12T12:28:21.298916Z",
     "iopub.status.busy": "2020-12-12T12:28:21.298057Z",
     "iopub.status.idle": "2020-12-12T12:28:21.314347Z",
     "shell.execute_reply": "2020-12-12T12:28:21.315735Z"
    },
    "papermill": {
     "duration": 0.055301,
     "end_time": "2020-12-12T12:28:21.315997",
     "exception": false,
     "start_time": "2020-12-12T12:28:21.260696",
     "status": "completed"
    },
    "tags": []
   },
   "outputs": [
    {
     "data": {
      "text/plain": [
       "['train_tfrecords',\n",
       " 'sample_submission.csv',\n",
       " 'test_tfrecords',\n",
       " 'label_num_to_disease_map.json',\n",
       " 'train_images',\n",
       " 'train.csv',\n",
       " 'test_images']"
      ]
     },
     "execution_count": 4,
     "metadata": {},
     "output_type": "execute_result"
    }
   ],
   "source": [
    "BASE_DIR = \"../input/cassava-leaf-disease-classification/\"\n",
    "\n",
    "os.listdir(BASE_DIR)"
   ]
  },
  {
   "cell_type": "code",
   "execution_count": 5,
   "metadata": {
    "execution": {
     "iopub.execute_input": "2020-12-12T12:28:21.367855Z",
     "iopub.status.busy": "2020-12-12T12:28:21.366999Z",
     "iopub.status.idle": "2020-12-12T12:28:21.435520Z",
     "shell.execute_reply": "2020-12-12T12:28:21.436194Z"
    },
    "papermill": {
     "duration": 0.100261,
     "end_time": "2020-12-12T12:28:21.436351",
     "exception": false,
     "start_time": "2020-12-12T12:28:21.336090",
     "status": "completed"
    },
    "tags": []
   },
   "outputs": [
    {
     "name": "stdout",
     "output_type": "stream",
     "text": [
      "             image_id  label\n",
      "0      1000015157.jpg      0\n",
      "1      1000201771.jpg      3\n",
      "2       100042118.jpg      1\n",
      "3      1000723321.jpg      1\n",
      "4      1000812911.jpg      3\n",
      "...               ...    ...\n",
      "21392   999068805.jpg      3\n",
      "21393   999329392.jpg      3\n",
      "21394   999474432.jpg      1\n",
      "21395   999616605.jpg      4\n",
      "21396   999998473.jpg      4\n",
      "\n",
      "[21397 rows x 2 columns]\n"
     ]
    }
   ],
   "source": [
    "train_data = pd.read_csv(BASE_DIR+'train.csv')\n",
    "samp_subm = pd.read_csv(BASE_DIR+'sample_submission.csv')\n",
    "\n",
    "print(train_data)"
   ]
  },
  {
   "cell_type": "code",
   "execution_count": 6,
   "metadata": {
    "execution": {
     "iopub.execute_input": "2020-12-12T12:28:21.544309Z",
     "iopub.status.busy": "2020-12-12T12:28:21.543504Z",
     "iopub.status.idle": "2020-12-12T12:28:22.349298Z",
     "shell.execute_reply": "2020-12-12T12:28:22.348397Z"
    },
    "papermill": {
     "duration": 0.879765,
     "end_time": "2020-12-12T12:28:22.349424",
     "exception": false,
     "start_time": "2020-12-12T12:28:21.469659",
     "status": "completed"
    },
    "tags": []
   },
   "outputs": [
    {
     "name": "stdout",
     "output_type": "stream",
     "text": [
      "number of train data: 21397\n",
      "number of train images: 21397\n",
      "number of test images: 1\n"
     ]
    }
   ],
   "source": [
    "print('number of train data:', len(train_data))\n",
    "print('number of train images:', len(os.listdir(BASE_DIR+'train_images/')))\n",
    "print('number of test images:', len(os.listdir(BASE_DIR+'test_images/')))"
   ]
  },
  {
   "cell_type": "code",
   "execution_count": 7,
   "metadata": {
    "execution": {
     "iopub.execute_input": "2020-12-12T12:28:22.393113Z",
     "iopub.status.busy": "2020-12-12T12:28:22.392452Z",
     "iopub.status.idle": "2020-12-12T12:28:53.752941Z",
     "shell.execute_reply": "2020-12-12T12:28:53.753828Z"
    },
    "papermill": {
     "duration": 31.390099,
     "end_time": "2020-12-12T12:28:53.754024",
     "exception": false,
     "start_time": "2020-12-12T12:28:22.363925",
     "status": "completed"
    },
    "tags": []
   },
   "outputs": [
    {
     "name": "stdout",
     "output_type": "stream",
     "text": [
      "Found 19258 validated image filenames belonging to 5 classes.\n",
      "Found 2139 validated image filenames belonging to 5 classes.\n"
     ]
    }
   ],
   "source": [
    "from tensorflow.keras.preprocessing.image import ImageDataGenerator\n",
    "import tensorflow as tf\n",
    "train_df = pd.read_csv(os.path.join(BASE_DIR, 'train.csv'))\n",
    "train_df['label'] = train_df['label'].astype(str)\n",
    "\n",
    "batch_size=16\n",
    "input_size = (224, 224)\n",
    "\n",
    "train_datagen = tf.keras.preprocessing.image.ImageDataGenerator(\n",
    "    validation_split = 0.1,\n",
    "    rotation_range=360,\n",
    "    width_shift_range=0.1,\n",
    "    height_shift_range=0.1,\n",
    "    shear_range=0.1,\n",
    "    zoom_range=0.1,\n",
    "    #channel_shift_range=0.2,\n",
    "    horizontal_flip=True,\n",
    "    vertical_flip=True,\n",
    "    rescale=None,\n",
    "    preprocessing_function=None,\n",
    "    )\n",
    "\n",
    "train_generator = train_datagen.flow_from_dataframe(\n",
    "    dataframe=train_df,\n",
    "    directory=os.path.join(BASE_DIR, 'train_images'),\n",
    "    x_col=\"image_id\",\n",
    "    y_col=\"label\",\n",
    "    batch_size=batch_size,\n",
    "    target_size=input_size,\n",
    "    class_mode=\"sparse\", \n",
    "    subset = \"training\"\n",
    ")\n",
    "valid_datagen = tf.keras.preprocessing.image.ImageDataGenerator(validation_split=0.1)\n",
    "valid_generator = train_datagen.flow_from_dataframe(\n",
    "    dataframe=train_df,\n",
    "    directory=os.path.join(BASE_DIR, 'train_images'),\n",
    "    x_col=\"image_id\",\n",
    "    y_col=\"label\",\n",
    "    batch_size=batch_size,\n",
    "    target_size=input_size ,\n",
    "    class_mode=\"sparse\", \n",
    "    subset=\"validation\")"
   ]
  },
  {
   "cell_type": "code",
   "execution_count": 8,
   "metadata": {
    "execution": {
     "iopub.execute_input": "2020-12-12T12:28:53.821469Z",
     "iopub.status.busy": "2020-12-12T12:28:53.820465Z",
     "iopub.status.idle": "2020-12-12T12:29:16.350803Z",
     "shell.execute_reply": "2020-12-12T12:29:16.349607Z"
    },
    "papermill": {
     "duration": 22.568495,
     "end_time": "2020-12-12T12:29:16.350930",
     "exception": false,
     "start_time": "2020-12-12T12:28:53.782435",
     "status": "completed"
    },
    "tags": []
   },
   "outputs": [
    {
     "name": "stdout",
     "output_type": "stream",
     "text": [
      "Model: \"sequential\"\n",
      "_________________________________________________________________\n",
      "Layer (type)                 Output Shape              Param #   \n",
      "=================================================================\n",
      "efficientnetb7 (Functional)  (None, 7, 7, 2560)        64097687  \n",
      "_________________________________________________________________\n",
      "global_average_pooling2d (Gl (None, 2560)              0         \n",
      "_________________________________________________________________\n",
      "dense (Dense)                (None, 5)                 12805     \n",
      "=================================================================\n",
      "Total params: 64,110,492\n",
      "Trainable params: 63,799,765\n",
      "Non-trainable params: 310,727\n",
      "_________________________________________________________________\n"
     ]
    }
   ],
   "source": [
    "from tensorflow.keras.applications.vgg16 import VGG16\n",
    "from tensorflow.keras.preprocessing import image\n",
    "from tensorflow.keras.applications.vgg16 import preprocess_input\n",
    "from keras.layers import Dense\n",
    "from keras import Model\n",
    "from keras import optimizers\n",
    "from keras.preprocessing.image import ImageDataGenerator\n",
    "from keras.optimizers import Adam\n",
    "from keras.models import Sequential\n",
    "from keras.layers import Conv2D, MaxPooling2D, BatchNormalization, GlobalAveragePooling2D\n",
    "from keras.layers import Activation, Dropout, Flatten, Dense\n",
    "\n",
    "model_weight_dir = \"../input/tfkerasefficientnetimagenetnotop/efficientnetb7_notop.h5\"\n",
    "\n",
    "\n",
    "model = Sequential()\n",
    "model.add( tf.keras.applications.EfficientNetB7(\n",
    "    include_top=False,\n",
    "    weights=model_weight_dir, input_shape=(224,224, 3)))\n",
    "\n",
    "\n",
    "model.add(GlobalAveragePooling2D())\n",
    "model.add(Dense(5, activation=\"softmax\"))\n",
    "model.summary()"
   ]
  },
  {
   "cell_type": "code",
   "execution_count": 9,
   "metadata": {
    "execution": {
     "iopub.execute_input": "2020-12-12T12:29:16.414851Z",
     "iopub.status.busy": "2020-12-12T12:29:16.401635Z",
     "iopub.status.idle": "2020-12-12T12:29:16.424086Z",
     "shell.execute_reply": "2020-12-12T12:29:16.423318Z"
    },
    "papermill": {
     "duration": 0.055402,
     "end_time": "2020-12-12T12:29:16.424181",
     "exception": false,
     "start_time": "2020-12-12T12:29:16.368779",
     "status": "completed"
    },
    "tags": []
   },
   "outputs": [],
   "source": [
    "model.compile(loss=\"sparse_categorical_crossentropy\",\n",
    "              optimizer=tf.keras.optimizers.Adam(learning_rate=1e-4),\n",
    "             metrics=['accuracy'])"
   ]
  },
  {
   "cell_type": "code",
   "execution_count": 10,
   "metadata": {
    "execution": {
     "iopub.execute_input": "2020-12-12T12:29:16.461578Z",
     "iopub.status.busy": "2020-12-12T12:29:16.459476Z",
     "iopub.status.idle": "2020-12-12T12:29:16.462343Z",
     "shell.execute_reply": "2020-12-12T12:29:16.462886Z"
    },
    "papermill": {
     "duration": 0.023787,
     "end_time": "2020-12-12T12:29:16.463005",
     "exception": false,
     "start_time": "2020-12-12T12:29:16.439218",
     "status": "completed"
    },
    "tags": []
   },
   "outputs": [],
   "source": [
    "model_checkpoint = tf.keras.callbacks.ModelCheckpoint(\n",
    "        filepath='best_model.h5',\n",
    "        save_weights_only=True,\n",
    "        monitor='val_loss',\n",
    "        mode='max',\n",
    "        save_best_only=True)\n",
    "early_stopping = tf.keras.callbacks.EarlyStopping(monitor='val_loss', patience=3)\n",
    "\n"
   ]
  },
  {
   "cell_type": "code",
   "execution_count": 11,
   "metadata": {
    "execution": {
     "iopub.execute_input": "2020-12-12T12:29:16.507621Z",
     "iopub.status.busy": "2020-12-12T12:29:16.506655Z",
     "iopub.status.idle": "2020-12-12T13:38:35.071297Z",
     "shell.execute_reply": "2020-12-12T13:38:35.071964Z"
    },
    "papermill": {
     "duration": 4158.593408,
     "end_time": "2020-12-12T13:38:35.072117",
     "exception": false,
     "start_time": "2020-12-12T12:29:16.478709",
     "status": "completed"
    },
    "tags": []
   },
   "outputs": [
    {
     "name": "stdout",
     "output_type": "stream",
     "text": [
      "Epoch 1/5\n",
      "1203/1203 [==============================] - 840s 699ms/step - loss: 0.6961 - accuracy: 0.7508 - val_loss: 0.5436 - val_accuracy: 0.8102\n",
      "Epoch 2/5\n",
      "1203/1203 [==============================] - 810s 673ms/step - loss: 0.5016 - accuracy: 0.8199 - val_loss: 0.4836 - val_accuracy: 0.8355\n",
      "Epoch 3/5\n",
      "1203/1203 [==============================] - 816s 678ms/step - loss: 0.4346 - accuracy: 0.8473 - val_loss: 0.4708 - val_accuracy: 0.8416\n",
      "Epoch 4/5\n",
      "1203/1203 [==============================] - 818s 680ms/step - loss: 0.4024 - accuracy: 0.8583 - val_loss: 0.4479 - val_accuracy: 0.8459\n",
      "Epoch 5/5\n",
      "1203/1203 [==============================] - 833s 692ms/step - loss: 0.3709 - accuracy: 0.8710 - val_loss: 0.4465 - val_accuracy: 0.8445\n"
     ]
    }
   ],
   "source": [
    "history = model.fit_generator(\n",
    "    train_generator,\n",
    "    validation_data = valid_generator,\n",
    "    #\n",
    "    steps_per_epoch = len(train_df)*0.9//batch_size,\n",
    "    validation_steps = len(train_df)*0.1//batch_size, \n",
    "    epochs = 5,\n",
    "    callbacks = [model_checkpoint ,early_stopping],\n",
    "    \n",
    ")"
   ]
  },
  {
   "cell_type": "code",
   "execution_count": 12,
   "metadata": {
    "execution": {
     "iopub.execute_input": "2020-12-12T13:38:39.310536Z",
     "iopub.status.busy": "2020-12-12T13:38:39.308994Z",
     "iopub.status.idle": "2020-12-12T13:38:39.683419Z",
     "shell.execute_reply": "2020-12-12T13:38:39.683971Z"
    },
    "papermill": {
     "duration": 2.516817,
     "end_time": "2020-12-12T13:38:39.684115",
     "exception": false,
     "start_time": "2020-12-12T13:38:37.167298",
     "status": "completed"
    },
    "tags": []
   },
   "outputs": [
    {
     "data": {
      "image/png": "[encoded data removed]",
      "text/plain": [
       "<Figure size 432x288 with 1 Axes>"
      ]
     },
     "metadata": {
      "needs_background": "light"
     },
     "output_type": "display_data"
    },
    {
     "data": {
      "image/png": "[encoded data removed]",
      "text/plain": [
       "<Figure size 432x288 with 1 Axes>"
      ]
     },
     "metadata": {
      "needs_background": "light"
     },
     "output_type": "display_data"
    }
   ],
   "source": [
    "import matplotlib.pyplot as plt\n",
    "\n",
    "acc = history.history['accuracy']\n",
    "val_acc = history.history['val_accuracy']\n",
    "loss = history.history['loss']\n",
    "val_loss = history.history['val_loss']\n",
    "\n",
    "epochs = range(len(acc))\n",
    "\n",
    "plt.plot(epochs, acc, 'bo', label='Training acc')\n",
    "plt.plot(epochs, val_acc, 'b', label='Validation acc')\n",
    "plt.title('Training and validation accuracy')\n",
    "plt.legend()\n",
    "\n",
    "plt.figure()\n",
    "\n",
    "plt.plot(epochs, loss, 'bo', label='Training loss')\n",
    "plt.plot(epochs, val_loss, 'b', label='Validation loss')\n",
    "plt.title('Training and validation loss')\n",
    "plt.legend()\n",
    "\n",
    "plt.show()"
   ]
  },
  {
   "cell_type": "code",
   "execution_count": 13,
   "metadata": {
    "execution": {
     "iopub.execute_input": "2020-12-12T13:38:44.395815Z",
     "iopub.status.busy": "2020-12-12T13:38:44.395141Z",
     "iopub.status.idle": "2020-12-12T13:38:44.404092Z",
     "shell.execute_reply": "2020-12-12T13:38:44.403405Z"
    },
    "papermill": {
     "duration": 2.39845,
     "end_time": "2020-12-12T13:38:44.404200",
     "exception": false,
     "start_time": "2020-12-12T13:38:42.005750",
     "status": "completed"
    },
    "tags": []
   },
   "outputs": [
    {
     "data": {
      "text/html": [
       "<div>\n",
       "<style scoped>\n",
       "    .dataframe tbody tr th:only-of-type {\n",
       "        vertical-align: middle;\n",
       "    }\n",
       "\n",
       "    .dataframe tbody tr th {\n",
       "        vertical-align: top;\n",
       "    }\n",
       "\n",
       "    .dataframe thead th {\n",
       "        text-align: right;\n",
       "    }\n",
       "</style>\n",
       "<table border=\"1\" class=\"dataframe\">\n",
       "  <thead>\n",
       "    <tr style=\"text-align: right;\">\n",
       "      <th></th>\n",
       "      <th>image_id</th>\n",
       "      <th>label</th>\n",
       "    </tr>\n",
       "  </thead>\n",
       "  <tbody>\n",
       "    <tr>\n",
       "      <th>0</th>\n",
       "      <td>2216849948.jpg</td>\n",
       "      <td>4</td>\n",
       "    </tr>\n",
       "  </tbody>\n",
       "</table>\n",
       "</div>"
      ],
      "text/plain": [
       "         image_id  label\n",
       "0  2216849948.jpg      4"
      ]
     },
     "execution_count": 13,
     "metadata": {},
     "output_type": "execute_result"
    }
   ],
   "source": [
    "sample = \"../input/cassava-leaf-disease-classification/sample_submission.csv\"\n",
    "sample_df = pd.read_csv(sample)\n",
    "sample_df.head()"
   ]
  },
  {
   "cell_type": "code",
   "execution_count": 14,
   "metadata": {
    "execution": {
     "iopub.execute_input": "2020-12-12T13:38:48.960938Z",
     "iopub.status.busy": "2020-12-12T13:38:48.959962Z",
     "iopub.status.idle": "2020-12-12T13:38:48.963159Z",
     "shell.execute_reply": "2020-12-12T13:38:48.962623Z"
    },
    "papermill": {
     "duration": 2.143161,
     "end_time": "2020-12-12T13:38:48.963262",
     "exception": false,
     "start_time": "2020-12-12T13:38:46.820101",
     "status": "completed"
    },
    "tags": []
   },
   "outputs": [],
   "source": [
    "INPUT_PATH = \"../input/cassava-leaf-disease-classification/\"\n",
    "test_images_path = INPUT_PATH+\"test_images/\""
   ]
  },
  {
   "cell_type": "code",
   "execution_count": 15,
   "metadata": {
    "execution": {
     "iopub.execute_input": "2020-12-12T13:38:53.153162Z",
     "iopub.status.busy": "2020-12-12T13:38:53.152323Z",
     "iopub.status.idle": "2020-12-12T13:38:53.155325Z",
     "shell.execute_reply": "2020-12-12T13:38:53.154833Z"
    },
    "papermill": {
     "duration": 2.093478,
     "end_time": "2020-12-12T13:38:53.155441",
     "exception": false,
     "start_time": "2020-12-12T13:38:51.061963",
     "status": "completed"
    },
    "tags": []
   },
   "outputs": [],
   "source": [
    "import cv2\n",
    "import tensorflow as tf\n",
    "import numpy as np \n",
    "from matplotlib import pyplot as plt\n",
    "from PIL import Image"
   ]
  },
  {
   "cell_type": "code",
   "execution_count": 16,
   "metadata": {
    "execution": {
     "iopub.execute_input": "2020-12-12T13:38:58.078863Z",
     "iopub.status.busy": "2020-12-12T13:38:58.078226Z",
     "iopub.status.idle": "2020-12-12T13:39:03.027871Z",
     "shell.execute_reply": "2020-12-12T13:39:03.028365Z"
    },
    "papermill": {
     "duration": 7.692446,
     "end_time": "2020-12-12T13:39:03.028523",
     "exception": false,
     "start_time": "2020-12-12T13:38:55.336077",
     "status": "completed"
    },
    "tags": []
   },
   "outputs": [
    {
     "data": {
      "text/html": [
       "<div>\n",
       "<style scoped>\n",
       "    .dataframe tbody tr th:only-of-type {\n",
       "        vertical-align: middle;\n",
       "    }\n",
       "\n",
       "    .dataframe tbody tr th {\n",
       "        vertical-align: top;\n",
       "    }\n",
       "\n",
       "    .dataframe thead th {\n",
       "        text-align: right;\n",
       "    }\n",
       "</style>\n",
       "<table border=\"1\" class=\"dataframe\">\n",
       "  <thead>\n",
       "    <tr style=\"text-align: right;\">\n",
       "      <th></th>\n",
       "      <th>image_id</th>\n",
       "      <th>label</th>\n",
       "    </tr>\n",
       "  </thead>\n",
       "  <tbody>\n",
       "    <tr>\n",
       "      <th>0</th>\n",
       "      <td>2216849948.jpg</td>\n",
       "      <td>4</td>\n",
       "    </tr>\n",
       "  </tbody>\n",
       "</table>\n",
       "</div>"
      ],
      "text/plain": [
       "         image_id  label\n",
       "0  2216849948.jpg      4"
      ]
     },
     "execution_count": 16,
     "metadata": {},
     "output_type": "execute_result"
    }
   ],
   "source": [
    "predictions = []\n",
    "for image_id in sample_df.image_id:\n",
    "    img = Image.open(os.path.join(test_images_path+image_id))\n",
    "    img = img.resize((224,224))\n",
    "    img = np.expand_dims(img, axis=0)\n",
    "    predictions.append(np.argmax(model.predict(img)))\n",
    "\n",
    "sample_df[\"label\"] = predictions\n",
    "sample_df"
   ]
  },
  {
   "cell_type": "code",
   "execution_count": 17,
   "metadata": {
    "execution": {
     "iopub.execute_input": "2020-12-12T13:39:07.697422Z",
     "iopub.status.busy": "2020-12-12T13:39:07.696384Z",
     "iopub.status.idle": "2020-12-12T13:39:07.934160Z",
     "shell.execute_reply": "2020-12-12T13:39:07.933158Z"
    },
    "papermill": {
     "duration": 2.715498,
     "end_time": "2020-12-12T13:39:07.934295",
     "exception": false,
     "start_time": "2020-12-12T13:39:05.218797",
     "status": "completed"
    },
    "tags": []
   },
   "outputs": [],
   "source": [
    "sample_df.to_csv(\"submission.csv\", index = False)"
   ]
  }
 ],
 "metadata": {
  "kernelspec": {
   "display_name": "Python 3",
   "language": "python",
   "name": "python3"
  },
  "language_info": {
   "codemirror_mode": {
    "name": "ipython",
    "version": 3
   },
   "file_extension": ".py",
   "mimetype": "text/x-python",
   "name": "python",
   "nbconvert_exporter": "python",
   "pygments_lexer": "ipython3",
   "version": "3.7.7"
  },
  "papermill": {
   "duration": 4259.332841,
   "end_time": "2020-12-12T13:39:11.242983",
   "environment_variables": {},
   "exception": null,
   "input_path": "__notebook__.ipynb",
   "output_path": "__notebook__.ipynb",
   "parameters": {},
   "start_time": "2020-12-12T12:28:11.910142",
   "version": "2.1.0"
  }
 },
 "nbformat": 4,
 "nbformat_minor": 4
}
